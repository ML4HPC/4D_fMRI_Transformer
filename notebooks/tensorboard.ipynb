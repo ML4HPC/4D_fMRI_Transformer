{
 "cells": [
  {
   "cell_type": "code",
   "execution_count": 4,
   "id": "7239a7c2",
   "metadata": {},
   "outputs": [
    {
     "name": "stdout",
     "output_type": "stream",
     "text": [
      "4\n",
      "NVIDIA A100-SXM4-40GB\n"
     ]
    }
   ],
   "source": [
    "print(torch.cuda.device_count())\n",
    "print(torch.cuda.get_device_name(0))"
   ]
  },
  {
   "cell_type": "code",
   "execution_count": 1,
   "id": "4c2c977f-50c0-4e52-a2f6-ff3294bb7df5",
   "metadata": {},
   "outputs": [
    {
     "data": {
      "text/plain": [
       "ERROR: Failed to launch TensorBoard (exited with 1).\n",
       "Contents of stderr:\n",
       "TensorFlow installation not found - running with reduced feature set.\n",
       "Traceback (most recent call last):\n",
       "  File \"/global/common/software/nersc/shasta2105/pytorch/1.9.0/bin/tensorboard\", line 8, in <module>\n",
       "    sys.exit(run_main())\n",
       "  File \"/global/common/software/nersc/shasta2105/pytorch/1.9.0/lib/python3.8/site-packages/tensorboard/main.py\", line 42, in run_main\n",
       "    plugins=default.get_plugins(),\n",
       "  File \"/global/common/software/nersc/shasta2105/pytorch/1.9.0/lib/python3.8/site-packages/tensorboard/default.py\", line 105, in get_plugins\n",
       "    return get_static_plugins() + get_dynamic_plugins()\n",
       "  File \"/global/common/software/nersc/shasta2105/pytorch/1.9.0/lib/python3.8/site-packages/tensorboard/default.py\", line 140, in get_dynamic_plugins\n",
       "    return [\n",
       "  File \"/global/common/software/nersc/shasta2105/pytorch/1.9.0/lib/python3.8/site-packages/tensorboard/default.py\", line 141, in <listcomp>\n",
       "    entry_point.resolve()\n",
       "  File \"/global/common/software/nersc/shasta2105/pytorch/1.9.0/lib/python3.8/site-packages/pkg_resources/__init__.py\", line 2456, in resolve\n",
       "    module = __import__(self.module_name, fromlist=['__name__'], level=0)\n",
       "  File \"/global/common/software/nersc/shasta2105/pytorch/1.9.0/lib/python3.8/site-packages/torch_tb_profiler/plugin.py\", line 19, in <module>\n",
       "    from . import consts, io, utils\n",
       "  File \"/global/common/software/nersc/shasta2105/pytorch/1.9.0/lib/python3.8/site-packages/torch_tb_profiler/io/__init__.py\", line 1, in <module>\n",
       "    from .cache import Cache\n",
       "  File \"/global/common/software/nersc/shasta2105/pytorch/1.9.0/lib/python3.8/site-packages/torch_tb_profiler/io/cache.py\", line 7, in <module>\n",
       "    from ..profiler import multiprocessing as mp\n",
       "  File \"/global/common/software/nersc/shasta2105/pytorch/1.9.0/lib/python3.8/site-packages/torch_tb_profiler/profiler/__init__.py\", line 5, in <module>\n",
       "    from .loader import RunLoader\n",
       "  File \"/global/common/software/nersc/shasta2105/pytorch/1.9.0/lib/python3.8/site-packages/torch_tb_profiler/profiler/loader.py\", line 11, in <module>\n",
       "    from ..run import Run\n",
       "  File \"/global/common/software/nersc/shasta2105/pytorch/1.9.0/lib/python3.8/site-packages/torch_tb_profiler/run.py\", line 9, in <module>\n",
       "    from .profiler.data import RunProfileData\n",
       "  File \"/global/common/software/nersc/shasta2105/pytorch/1.9.0/lib/python3.8/site-packages/torch_tb_profiler/profiler/data.py\", line 20, in <module>\n",
       "    from .kernel_parser import KernelParser\n",
       "  File \"/global/common/software/nersc/shasta2105/pytorch/1.9.0/lib/python3.8/site-packages/torch_tb_profiler/profiler/kernel_parser.py\", line 5, in <module>\n",
       "    import pandas as pd\n",
       "  File \"/global/common/software/nersc/shasta2105/pytorch/1.9.0/lib/python3.8/site-packages/pandas/__init__.py\", line 22, in <module>\n",
       "    from pandas.compat import (\n",
       "  File \"/global/common/software/nersc/shasta2105/pytorch/1.9.0/lib/python3.8/site-packages/pandas/compat/__init__.py\", line 15, in <module>\n",
       "    from pandas.compat.numpy import (\n",
       "  File \"/global/common/software/nersc/shasta2105/pytorch/1.9.0/lib/python3.8/site-packages/pandas/compat/numpy/__init__.py\", line 20, in <module>\n",
       "    raise ImportError(\n",
       "ImportError: this version of pandas is incompatible with numpy < 1.17.3\n",
       "your numpy version is 1.16.6.\n",
       "Please upgrade numpy to >= 1.17.3 to use this pandas version"
      ]
     },
     "metadata": {},
     "output_type": "display_data"
    },
    {
     "data": {
      "text/html": [
       "<a href=\"https://jupyter.nersc.gov/user/junbeom/perlmutter-exclusive-node-gpu/proxy/None/\">https://jupyter.nersc.gov/user/junbeom/perlmutter-exclusive-node-gpu/proxy/None/</a>"
      ],
      "text/plain": [
       "<IPython.core.display.HTML object>"
      ]
     },
     "metadata": {},
     "output_type": "display_data"
    }
   ],
   "source": [
    "import nersc_tensorboard_helper\n",
    "%load_ext tensorboard\n",
    "%tensorboard --logdir /global/cfs/cdirs/m3898/4D_fMRI_Transformer/runs/\n",
    "nersc_tensorboard_helper.tb_address()"
   ]
  },
  {
   "cell_type": "code",
   "execution_count": 2,
   "id": "d2c996e4-3dcf-47b3-a9dc-f2089f447482",
   "metadata": {},
   "outputs": [
    {
     "name": "stdout",
     "output_type": "stream",
     "text": [
      "Defaulting to user installation because normal site-packages is not writeable\n",
      "Looking in indexes: https://pypi.org/simple, https://pypi.ngc.nvidia.com\n",
      "Requirement already satisfied: numpy in /global/u2/j/junbeom/.local/perlmutter/pytorch1.9.0/lib/python3.8/site-packages (1.16.6)\n",
      "Collecting numpy\n",
      "  Downloading numpy-1.23.1-cp38-cp38-manylinux_2_17_x86_64.manylinux2014_x86_64.whl (17.1 MB)\n",
      "\u001b[K     |████████████████████████████████| 17.1 MB 13.1 MB/s eta 0:00:01\n",
      "\u001b[?25hInstalling collected packages: numpy\n",
      "  Attempting uninstall: numpy\n",
      "    Found existing installation: numpy 1.16.6\n",
      "    Uninstalling numpy-1.16.6:\n",
      "      Successfully uninstalled numpy-1.16.6\n",
      "\u001b[31mERROR: pip's dependency resolver does not currently take into account all the packages that are installed. This behaviour is the source of the following dependency conflicts.\n",
      "nibabel 2.5.2 requires numpy<1.17dev,>=1.8, but you have numpy 1.23.1 which is incompatible.\n",
      "scipy 1.6.2 requires numpy<1.23.0,>=1.16.5, but you have numpy 1.23.1 which is incompatible.\u001b[0m\n",
      "Successfully installed numpy-1.23.1\n",
      "Note: you may need to restart the kernel to use updated packages.\n"
     ]
    }
   ],
   "source": [
    "pip install numpy --upgrade"
   ]
  },
  {
   "cell_type": "code",
   "execution_count": 7,
   "id": "a923924f-391d-47d2-9ceb-3f73a8882853",
   "metadata": {},
   "outputs": [
    {
     "data": {
      "text/plain": [
       "'/global/cfs/cdirs/m3898/4D_fMRI_Transformer'"
      ]
     },
     "execution_count": 7,
     "metadata": {},
     "output_type": "execute_result"
    }
   ],
   "source": [
    "pwd"
   ]
  },
  {
   "cell_type": "code",
   "execution_count": null,
   "id": "6ad6fd81-efb4-4b16-b4de-4e45abb63938",
   "metadata": {},
   "outputs": [],
   "source": []
  }
 ],
 "metadata": {
  "kernelspec": {
   "display_name": "Python 3 (ipykernel)",
   "language": "python",
   "name": "python3"
  },
  "language_info": {
   "codemirror_mode": {
    "name": "ipython",
    "version": 3
   },
   "file_extension": ".py",
   "mimetype": "text/x-python",
   "name": "python",
   "nbconvert_exporter": "python",
   "pygments_lexer": "ipython3",
   "version": "3.8.13"
  }
 },
 "nbformat": 4,
 "nbformat_minor": 5
}
