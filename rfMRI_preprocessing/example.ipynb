{
 "cells": [
  {
   "cell_type": "code",
   "execution_count": 2,
   "metadata": {},
   "outputs": [
    {
     "name": "stderr",
     "output_type": "stream",
     "text": [
      "/home/jj/anaconda3/envs/30env/envs/torch_1.12_2/lib/python3.10/site-packages/tqdm/auto.py:22: TqdmWarning: IProgress not found. Please update jupyter and ipywidgets. See https://ipywidgets.readthedocs.io/en/stable/user_install.html\n",
      "  from .autonotebook import tqdm as notebook_tqdm\n"
     ]
    }
   ],
   "source": [
    "import torch\n",
    "import os"
   ]
  },
  {
   "cell_type": "markdown",
   "metadata": {},
   "source": [
    "# Difference of global norm"
   ]
  },
  {
   "cell_type": "code",
   "execution_count": 6,
   "metadata": {},
   "outputs": [
    {
     "name": "stdout",
     "output_type": "stream",
     "text": [
      "maximum difference value: tensor(0.0020)\n",
      "avg absolute minimum: tensor(0.0004)\n"
     ]
    }
   ],
   "source": [
    "new_global = torch.cat([torch.load(f'/mnt/ssd/processed/S1200/img/996782/frame_{i}.pt') for i in range(20)], dim=3)\n",
    "prev_global = torch.cat([torch.load(f'/home/jj/996782/global_normalize/rfMRI_LR_TR_{i}.pt') for i in range(20)], dim=3)\n",
    "\n",
    "idx = (prev_global.flatten() - new_global.flatten()).argmax()\n",
    "\n",
    "print('maximum difference value:', prev_global.flatten()[idx] - new_global.flatten()[idx])\n",
    "print('avg absolute minimum:', (prev_global - new_global).abs().mean())"
   ]
  },
  {
   "cell_type": "markdown",
   "metadata": {},
   "source": [
    "# Difference of Voxel norm"
   ]
  },
  {
   "cell_type": "code",
   "execution_count": 10,
   "metadata": {},
   "outputs": [
    {
     "data": {
      "text/plain": [
       "torch.Size([75, 93, 81, 20])"
      ]
     },
     "execution_count": 10,
     "metadata": {},
     "output_type": "execute_result"
    }
   ],
   "source": [
    "fmri.shape"
   ]
  },
  {
   "cell_type": "code",
   "execution_count": 33,
   "metadata": {},
   "outputs": [
    {
     "name": "stdout",
     "output_type": "stream",
     "text": [
      "maximum difference value: tensor(4.8805)\n",
      "avg absolute minimum: tensor(0.0063)\n",
      "diff around boundary: 625\n",
      "diff_smaller_than_6 tensor(0.0063)\n"
     ]
    }
   ],
   "source": [
    "mean = torch.load(f'/mnt/ssd/processed/S1200/img/996782/voxel_mean.pt')\n",
    "std = torch.load(f'/mnt/ssd/processed/S1200/img/996782/voxel_std.pt')\n",
    "fmri = torch.cat([torch.load(f'/mnt/ssd/processed/S1200/img/996782/frame_{i}.pt') for i in range(20)], dim=3)\n",
    "\n",
    "new_voxel = torch.zeros_like(fmri)\n",
    "\n",
    "background_value = fmri.flatten()[0]\n",
    "background = fmri == background_value\n",
    "\n",
    "new_voxel[~background] = ((fmri - mean) / std)[~background]\n",
    "new_voxel.add_(background * new_voxel.min()) # inplace operation\n",
    "\n",
    "prev_voxel = torch.cat([torch.load(f'/home/jj/996782/per_voxel_normalize/rfMRI_LR_TR_{i}.pt') for i in range(20)], dim=3)\n",
    "prev_voxel[prev_voxel!=prev_voxel] = prev_voxel[(prev_voxel==prev_voxel)].min()\n",
    "\n",
    "idx = (prev_voxel.flatten() - new_voxel.flatten()).argmax()\n",
    "\n",
    "print('maximum difference value:', prev_voxel.flatten()[idx] - new_voxel.flatten()[idx])\n",
    "print('avg absolute minimum:', (prev_voxel - new_voxel).abs().mean())\n",
    "\n",
    "diff = prev_voxel - new_voxel\n",
    "print('diff around boundary:', len(diff[diff.abs()>0.05]))\n",
    "print('diff_smaller_than_6', diff[diff.abs()<4].abs().mean())"
   ]
  }
 ],
 "metadata": {
  "kernelspec": {
   "display_name": "Python 3.10.4 ('torch_1.12_2')",
   "language": "python",
   "name": "python3"
  },
  "language_info": {
   "codemirror_mode": {
    "name": "ipython",
    "version": 3
   },
   "file_extension": ".py",
   "mimetype": "text/x-python",
   "name": "python",
   "nbconvert_exporter": "python",
   "pygments_lexer": "ipython3",
   "version": "3.10.4"
  },
  "orig_nbformat": 4,
  "vscode": {
   "interpreter": {
    "hash": "efecde56bf6590a357229c4c39e0058367041747d4052c381797cf52d4ae09cd"
   }
  }
 },
 "nbformat": 4,
 "nbformat_minor": 2
}
